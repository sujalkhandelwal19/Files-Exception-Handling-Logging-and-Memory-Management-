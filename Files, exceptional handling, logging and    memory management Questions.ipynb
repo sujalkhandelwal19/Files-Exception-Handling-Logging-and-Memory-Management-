{
 "cells": [
  {
   "cell_type": "markdown",
   "id": "d7d9c3f9-fa0c-4341-a4af-b01581cd4480",
   "metadata": {},
   "source": [
    "# Practical Questions"
   ]
  },
  {
   "cell_type": "markdown",
   "id": "e564743a-aace-47dd-94c2-d534ee4b402a",
   "metadata": {},
   "source": [
    "### 1. How can you open a file for writing in Python and write a string to it?"
   ]
  },
  {
   "cell_type": "code",
   "execution_count": 1,
   "id": "115d7299-2f9b-435c-a635-5b1dc77100f2",
   "metadata": {},
   "outputs": [],
   "source": [
    "with open(\"Ques1.txt\",\"w\") as f:\n",
    "    f.write(\"This is a sample string\")\n",
    "    "
   ]
  },
  {
   "cell_type": "markdown",
   "id": "66b08ad6-33cf-4873-b2d6-fa9d2e72c62a",
   "metadata": {},
   "source": [
    "### 2. Write a Python program to read the contents of a file and print each line"
   ]
  },
  {
   "cell_type": "code",
   "execution_count": 4,
   "id": "35f8ed3c-a250-4f1e-a177-c55ce366350d",
   "metadata": {},
   "outputs": [
    {
     "name": "stdout",
     "output_type": "stream",
     "text": [
      "This is a sample string\n"
     ]
    }
   ],
   "source": [
    "with open(\"Ques1.txt\",\"r\") as f:\n",
    "    for line in f:\n",
    "        print(line.strip())"
   ]
  },
  {
   "cell_type": "markdown",
   "id": "2dc4f089-020f-4716-a077-41e8b67e914f",
   "metadata": {},
   "source": [
    "### 3. How would you handle a case where the file doesn't exist while trying to open it for reading?"
   ]
  },
  {
   "cell_type": "code",
   "execution_count": 5,
   "id": "97d80df1-20b6-495a-a801-f89af59ada97",
   "metadata": {},
   "outputs": [
    {
     "name": "stdout",
     "output_type": "stream",
     "text": [
      "File does not exist\n"
     ]
    }
   ],
   "source": [
    "try:\n",
    "    with open(\"sample.txt\",\"r\") as f:\n",
    "        for line in f:\n",
    "            print(line.strip())\n",
    "except FileNotFoundError:\n",
    "    print(\"File does not exist\")"
   ]
  },
  {
   "cell_type": "markdown",
   "id": "c7a54293-2072-47ef-9a80-e5366a5a9652",
   "metadata": {},
   "source": [
    "### 4. Write a Python script that reads from one file and writes its content to another file."
   ]
  },
  {
   "cell_type": "code",
   "execution_count": 6,
   "id": "8f4bbfc3-b5c1-405f-88e0-33f02b1ad1a4",
   "metadata": {},
   "outputs": [],
   "source": [
    "with open(\"Ques1.txt\",\"r\") as f:\n",
    "    data=f.readlines()\n",
    "with open(\"Ques4.txt\",\"w\") as f:\n",
    "    for line in data:\n",
    "        f.write(line)"
   ]
  },
  {
   "cell_type": "markdown",
   "id": "7f83e8d2-dc0a-414b-8222-d7d01c73e880",
   "metadata": {},
   "source": [
    "### 5. How would you catch and handle division by zero error in Python?"
   ]
  },
  {
   "cell_type": "code",
   "execution_count": 7,
   "id": "82125774-32e1-4604-8f02-5e5be2cf0ca2",
   "metadata": {},
   "outputs": [
    {
     "name": "stdout",
     "output_type": "stream",
     "text": [
      "Cannot Divide by zero\n"
     ]
    }
   ],
   "source": [
    "try:\n",
    "    a=100\n",
    "    b=0\n",
    "    c=a/b\n",
    "except ZeroDivisionError:\n",
    "    print(\"Cannot Divide by zero\")"
   ]
  },
  {
   "cell_type": "markdown",
   "id": "4e067570-f936-434e-bdaa-b0088b0605d8",
   "metadata": {},
   "source": [
    "### 6. Write a Python program that logs an error message to a log file when a division by zero exception occurs."
   ]
  },
  {
   "cell_type": "code",
   "execution_count": 8,
   "id": "c077b2b5-2c86-495c-9b27-834715b8fbdd",
   "metadata": {},
   "outputs": [],
   "source": [
    "import logging\n",
    "logging.basicConfig(filename=\"error.txt\",level=logging.ERROR,format='%(asctime)s  -%(levelname)s - %(message)s')\n",
    "try: \n",
    "    a=10\n",
    "    b=0\n",
    "    c=a/b\n",
    "except ZeroDivisionError as e:\n",
    "    logging.error(\"Division by zero occured: %s\",e)"
   ]
  },
  {
   "cell_type": "markdown",
   "id": "c7c65ec7-b7d8-4e12-8ac7-2600171b7322",
   "metadata": {},
   "source": [
    "### 7. How do you log information at different levels (INFO, ERROR, WARNING) in Python using the logging module?"
   ]
  },
  {
   "cell_type": "code",
   "execution_count": 10,
   "id": "4195ad72-f94d-43af-88c2-35a8c545d867",
   "metadata": {},
   "outputs": [],
   "source": [
    "import logging\n",
    "logging.basicConfig(filename=\"app.log\",level=logging.DEBUG,format='%(asctime)s - %(levelname)s -%(message)s')\n",
    "logging.debug(\"This is a debug message (useful for diagnosing problems).\")\n",
    "logging.info(\"This is an info message (general information).\")\n",
    "logging.warning(\"This is a Warning message (Some unexpected happen).\")\n",
    "logging.error(\"This is an error message (a serious problem occured).\")\n",
    "logging.critical(\"This is a Critical message (program may not be able to continue).\")"
   ]
  },
  {
   "cell_type": "markdown",
   "id": "4492a4a9-c019-4838-9219-af91add60b87",
   "metadata": {},
   "source": [
    "### 8. Write a program to handle a file opening error using exception handling."
   ]
  },
  {
   "cell_type": "code",
   "execution_count": 11,
   "id": "43363bfb-4a12-47d6-8570-4573b8ba9ccc",
   "metadata": {},
   "outputs": [
    {
     "name": "stdout",
     "output_type": "stream",
     "text": [
      "Error: The file does not exist.\n"
     ]
    }
   ],
   "source": [
    "try:\n",
    "    with open(\"non_existent_file.txt\", \"r\") as file:\n",
    "        content = file.read()\n",
    "        print(content)\n",
    "except FileNotFoundError:\n",
    "    print(\"Error: The file does not exist.\")\n"
   ]
  },
  {
   "cell_type": "markdown",
   "id": "16db12c2-1906-479d-906d-7560f2981160",
   "metadata": {},
   "source": [
    "### 9. How can you read a file line by line and store its content in a list in Python?"
   ]
  },
  {
   "cell_type": "code",
   "execution_count": 13,
   "id": "27222bab-4c77-4152-9967-72d9bbfbebe8",
   "metadata": {},
   "outputs": [
    {
     "name": "stdout",
     "output_type": "stream",
     "text": [
      "['This is a sample string']\n"
     ]
    }
   ],
   "source": [
    "with open(\"ques1.txt\", \"r\") as file:\n",
    "    lines = file.readlines()\n",
    "\n",
    "print(lines)\n"
   ]
  },
  {
   "cell_type": "markdown",
   "id": "81eb395a-5bc1-466b-98d9-1942ff1f810a",
   "metadata": {},
   "source": [
    "### 10. How can you append data to an existing file in Python?"
   ]
  },
  {
   "cell_type": "code",
   "execution_count": 15,
   "id": "123983cb-a2f4-4959-b373-c0eae83d909b",
   "metadata": {},
   "outputs": [],
   "source": [
    "with open(\"Ques4.txt\",\"a\") as f:\n",
    "    f. write(\"\\nI am appeneding a line\")"
   ]
  },
  {
   "cell_type": "markdown",
   "id": "84934428-e5c6-4b61-a990-b7c4a21b4aaa",
   "metadata": {},
   "source": [
    "### 11. Write a Python program that uses a try-except block to handle an error when attempting to access a dictionary key that doesn't exist."
   ]
  },
  {
   "cell_type": "code",
   "execution_count": 16,
   "id": "1fb358f7-0d21-496a-bc40-904a7d83fe2d",
   "metadata": {},
   "outputs": [
    {
     "name": "stdout",
     "output_type": "stream",
     "text": [
      "Error: 'email' not found in the dictionary\n"
     ]
    }
   ],
   "source": [
    "data={'name':'Sujal','age':21}\n",
    "try:\n",
    "    print(data['email'])\n",
    "except KeyError:\n",
    "    print(\"Error: 'email' not found in the dictionary\")\n"
   ]
  },
  {
   "cell_type": "markdown",
   "id": "1b8b696c-f910-4f60-bb39-88794b56a392",
   "metadata": {},
   "source": [
    "### 12. Write a program that demonstrates using multiple except blocks to handle different types of exceptions."
   ]
  },
  {
   "cell_type": "code",
   "execution_count": 17,
   "id": "14aafcae-760e-40a7-956f-9b797b3785a6",
   "metadata": {},
   "outputs": [
    {
     "name": "stdin",
     "output_type": "stream",
     "text": [
      "Enter a number:  9\n"
     ]
    },
    {
     "name": "stdout",
     "output_type": "stream",
     "text": [
      "Result: 1.1111111111111112\n",
      "Error: The specified key does not exist in the dictionary.\n"
     ]
    }
   ],
   "source": [
    "try:\n",
    "    num = int(input(\"Enter a number: \"))\n",
    "    result = 10 / num\n",
    "    print(\"Result:\", result)\n",
    "\n",
    "    data = {\"name\": \"Sujal\"}\n",
    "    print(data[\"age\"])\n",
    "\n",
    "except ZeroDivisionError:\n",
    "    print(\"Error: Cannot divide by zero.\")\n",
    "\n",
    "except ValueError:\n",
    "    print(\"Error: Invalid input. Please enter a number.\")\n",
    "\n",
    "except KeyError:\n",
    "    print(\"Error: The specified key does not exist in the dictionary.\")\n",
    "\n",
    "except Exception as e:\n",
    "    print(f\"An unexpected error occurred: {e}\")\n"
   ]
  },
  {
   "cell_type": "markdown",
   "id": "edd2c9b7-5b2c-44bf-9c9a-647c5fb5602b",
   "metadata": {},
   "source": [
    "### 13. How would you check if a file exists before attempting to read it in Python?"
   ]
  },
  {
   "cell_type": "code",
   "execution_count": 18,
   "id": "678dd4a6-b0b1-4ed8-8f91-609f217ee661",
   "metadata": {},
   "outputs": [
    {
     "name": "stdout",
     "output_type": "stream",
     "text": [
      "File does not exist\n"
     ]
    }
   ],
   "source": [
    "import os\n",
    "if os.path.exists(\"example.txt\"):\n",
    "    with open(\"example.txt\",\"r\") as f:\n",
    "        content=f.read()\n",
    "        print(content)\n",
    "else:\n",
    "    print(\"File does not exist\")"
   ]
  },
  {
   "cell_type": "markdown",
   "id": "abc02065-7682-49c5-96f5-17fe77646d39",
   "metadata": {},
   "source": [
    "### 14. Write a program that uses the logging module to log both informational and error messages."
   ]
  },
  {
   "cell_type": "code",
   "execution_count": 19,
   "id": "97ece0d5-4eb8-45da-a3c4-8a33c99912fc",
   "metadata": {},
   "outputs": [],
   "source": [
    "import logging\n",
    "logging.basicConfig(filename=\"app_log.txt\",level=logging.INFO,format=\"%(asctime)s - %(levelname)s - %(message)s\")\n",
    "logging.info(\"The program has started successfully\")\n",
    "try:\n",
    "    x=10\n",
    "    y=0\n",
    "    result=x/y\n",
    "except ZeroDivisionError as e:\n",
    "    logging.error(f\"An error occured: {e}\")\n",
    "logging.info(\"Program ended after handling error successfully\")"
   ]
  },
  {
   "cell_type": "markdown",
   "id": "678b62b5-7d9b-40fe-b1eb-75184a33e7be",
   "metadata": {},
   "source": [
    "### 15. Write a Python program that prints the content of a file and handles the case when the file is empty."
   ]
  },
  {
   "cell_type": "code",
   "execution_count": 20,
   "id": "08d99826-e73a-4d2a-8945-6beee1f91604",
   "metadata": {},
   "outputs": [
    {
     "name": "stdout",
     "output_type": "stream",
     "text": [
      "Error: The file does not exist.\n"
     ]
    }
   ],
   "source": [
    "try:\n",
    "    with open(\"example.txt\", \"r\") as file:\n",
    "        content = file.read()\n",
    "        if content.strip() == \"\":\n",
    "            print(\"The file is empty.\")\n",
    "        else:\n",
    "            print(\"File Content:\")\n",
    "            print(content)\n",
    "except FileNotFoundError:\n",
    "    print(\"Error: The file does not exist.\")\n"
   ]
  },
  {
   "cell_type": "markdown",
   "id": "4665f400-ab71-47b5-89b6-c416771d2994",
   "metadata": {},
   "source": [
    "### 16. Demonstrate how to use memory profiling to check the memory usage of a small program."
   ]
  },
  {
   "cell_type": "code",
   "execution_count": 3,
   "id": "fd6e98a8-d060-4f79-8847-3a32ae9a1c1f",
   "metadata": {},
   "outputs": [
    {
     "name": "stdout",
     "output_type": "stream",
     "text": [
      "Requirement already satisfied: memory-profiler in c:\\study materials\\anaconda\\lib\\site-packages (0.61.0)\n",
      "Requirement already satisfied: psutil in c:\\study materials\\anaconda\\lib\\site-packages (from memory-profiler) (5.9.0)\n"
     ]
    }
   ],
   "source": [
    "!pip install memory-profiler"
   ]
  },
  {
   "cell_type": "code",
   "execution_count": 4,
   "id": "81f5d6ac-a422-4c54-b4f4-58b4cb2c273a",
   "metadata": {},
   "outputs": [],
   "source": [
    "%load_ext memory_profiler\n"
   ]
  },
  {
   "cell_type": "code",
   "execution_count": 5,
   "id": "082ff4d5-54d9-4421-b2b7-0e8654edf9bf",
   "metadata": {},
   "outputs": [
    {
     "name": "stdout",
     "output_type": "stream",
     "text": [
      "peak memory: 79.14 MiB, increment: 2.97 MiB\n"
     ]
    }
   ],
   "source": [
    "%%memit\n",
    "data = []\n",
    "for i in range(100000):\n",
    "    data.append(i * i)\n"
   ]
  },
  {
   "cell_type": "markdown",
   "id": "cea60258-82a0-45e8-8b2c-d6623f865f29",
   "metadata": {},
   "source": [
    "### 17. Write a Python program to create and write a list of numbers to a file, one number per line"
   ]
  },
  {
   "cell_type": "code",
   "execution_count": 3,
   "id": "54c6c4d1-fa3b-41d5-96ec-b8ff81b4dbbb",
   "metadata": {},
   "outputs": [],
   "source": [
    "numbers = [10, 20, 30, 40, 50]\n",
    "\n",
    "with open(\"numbers.txt\", \"w\") as file:\n",
    "    for number in numbers:\n",
    "        file.write(f\"{number}\\n\")\n"
   ]
  },
  {
   "cell_type": "markdown",
   "id": "79479c6d-f52e-455f-b912-5d1d49676c82",
   "metadata": {},
   "source": [
    "### 18. How would you implement a basic logging setup that logs to a file with rotation after 1MB?"
   ]
  },
  {
   "cell_type": "code",
   "execution_count": 4,
   "id": "d10e65e1-3917-4810-a134-a81da35af945",
   "metadata": {},
   "outputs": [],
   "source": [
    "import logging\n",
    "from logging.handlers import RotatingFileHandler\n",
    "\n",
    "logger = logging.getLogger(\"rotating_logger\")\n",
    "logger.setLevel(logging.INFO)\n",
    "\n",
    "if logger.hasHandlers():\n",
    "    logger.handlers.clear()\n",
    "\n",
    "handler = RotatingFileHandler(\n",
    "    \"rotating_app.log\", maxBytes=1 * 1024 * 1024, backupCount=3\n",
    ")\n",
    "formatter = logging.Formatter('%(asctime)s - %(levelname)s - %(message)s')\n",
    "handler.setFormatter(formatter)\n",
    "\n",
    "logger.addHandler(handler)\n",
    "\n",
    "for i in range(10000):\n",
    "    logger.info(f\"This is log entry #{i}\")\n"
   ]
  },
  {
   "cell_type": "markdown",
   "id": "e6efca6a-9018-4466-8a01-31a49f9533ea",
   "metadata": {},
   "source": [
    "### 19. Write a program that handles both IndexError and KeyError using a try-except block."
   ]
  },
  {
   "cell_type": "code",
   "execution_count": 6,
   "id": "f1058001-2f53-479a-b670-29cfc1d5d096",
   "metadata": {},
   "outputs": [
    {
     "name": "stdout",
     "output_type": "stream",
     "text": [
      "Error: List index out of range.\n",
      "Error: Key not found in dictionary.\n"
     ]
    }
   ],
   "source": [
    "my_list = [1, 2, 3]\n",
    "my_dict = {\"name\": \"Sujal\"}\n",
    "\n",
    "try:\n",
    "    print(my_list[5])  \n",
    "except IndexError:\n",
    "    print(\"Error: List index out of range.\")\n",
    "\n",
    "try:\n",
    "    print(my_dict[\"age\"])  \n",
    "except KeyError:\n",
    "    print(\"Error: Key not found in dictionary.\")\n"
   ]
  },
  {
   "cell_type": "markdown",
   "id": "40e2d885-a7db-4ed0-8277-7a3c6d68c960",
   "metadata": {},
   "source": [
    "### 20. How would you open a file and read its contents using a context manager in Python?"
   ]
  },
  {
   "cell_type": "code",
   "execution_count": 7,
   "id": "7dda7d67-b013-46f1-bfee-fe8a0e629daa",
   "metadata": {},
   "outputs": [
    {
     "name": "stdout",
     "output_type": "stream",
     "text": [
      "10\n",
      "20\n",
      "30\n",
      "40\n",
      "50\n",
      "\n"
     ]
    }
   ],
   "source": [
    "with open(\"numbers.txt\", \"r\") as file:\n",
    "    content = file.read()\n",
    "    print(content)\n"
   ]
  },
  {
   "cell_type": "markdown",
   "id": "b8e4e401-d52b-42be-81d2-67ab6b3246b7",
   "metadata": {},
   "source": [
    "### 21. Write a Python program that reads a file and prints the number of occurrences of a specific word"
   ]
  },
  {
   "cell_type": "code",
   "execution_count": 11,
   "id": "c1fafe6f-75e0-4e0f-8ecf-7d3829a5d396",
   "metadata": {},
   "outputs": [
    {
     "name": "stdout",
     "output_type": "stream",
     "text": [
      "The word '10' occurs 1 times in the file\n"
     ]
    }
   ],
   "source": [
    "def count_word_occurences(filename,target_word):\n",
    "    try:\n",
    "        with open(filename,\"r\") as file:\n",
    "            content=file.read().lower()\n",
    "            words=content.split()\n",
    "            count=words.count(target_word.lower())\n",
    "            print(f\"The word '{target_word}' occurs {count} times in the file\")\n",
    "    except FileNotFoundError:\n",
    "        print(\"Error: File does not exist\")\n",
    "count_word_occurences(\"numbers.txt\",\"10\")"
   ]
  },
  {
   "cell_type": "markdown",
   "id": "9d3709be-4c4b-4a0e-9f52-f901c40e455c",
   "metadata": {},
   "source": [
    "### 22. How can you check if a file is empty before attempting to read its contents?"
   ]
  },
  {
   "cell_type": "code",
   "execution_count": 13,
   "id": "8c9b1a72-8bef-4deb-8f88-52326bc21e9a",
   "metadata": {},
   "outputs": [
    {
     "name": "stdout",
     "output_type": "stream",
     "text": [
      "File Content:\n",
      " 10\n",
      "20\n",
      "30\n",
      "40\n",
      "50\n",
      "\n"
     ]
    }
   ],
   "source": [
    "with open(\"numbers.txt\", \"r\") as file:\n",
    "    content = file.read()\n",
    "    if not content.strip():\n",
    "        print(\"The file is empty.\")\n",
    "    else:\n",
    "        print(\"File Content:\\n\", content)\n"
   ]
  },
  {
   "cell_type": "markdown",
   "id": "05ade3a7-46fa-4bf7-900a-8f1b6e66c981",
   "metadata": {},
   "source": [
    "### 23. Write a Python program that writes to a log file when an error occurs during file handling."
   ]
  },
  {
   "cell_type": "code",
   "execution_count": 14,
   "id": "755b8f60-a10c-4acf-aa39-994f082cedae",
   "metadata": {},
   "outputs": [
    {
     "name": "stdout",
     "output_type": "stream",
     "text": [
      "An error occurred. Check the log file for details.\n"
     ]
    }
   ],
   "source": [
    "import logging\n",
    "\n",
    "logging.basicConfig(filename=\"file_errors.log\",level=logging.ERROR,format=\"%(asctime)s - %(levelname)s - %(message)s\")\n",
    "\n",
    "try:\n",
    "    with open(\"nonexistent_file.txt\", \"r\") as file:\n",
    "        data = file.read()\n",
    "        print(data)\n",
    "except FileNotFoundError as e:\n",
    "    logging.error(f\"File not found: {e}\")\n",
    "    print(\"An error occurred. Check the log file for details.\")\n"
   ]
  },
  {
   "cell_type": "code",
   "execution_count": null,
   "id": "128fab8d-6cc0-4bb5-9182-bf106afdf6b6",
   "metadata": {},
   "outputs": [],
   "source": []
  }
 ],
 "metadata": {
  "kernelspec": {
   "display_name": "Python 3 (ipykernel)",
   "language": "python",
   "name": "python3"
  },
  "language_info": {
   "codemirror_mode": {
    "name": "ipython",
    "version": 3
   },
   "file_extension": ".py",
   "mimetype": "text/x-python",
   "name": "python",
   "nbconvert_exporter": "python",
   "pygments_lexer": "ipython3",
   "version": "3.12.7"
  }
 },
 "nbformat": 4,
 "nbformat_minor": 5
}
